{
 "cells": [
  {
   "cell_type": "markdown",
   "metadata": {},
   "source": [
    "# Preparing the dataset\n",
    "\n",
    "Converting the CSV File into text label files for YOLO"
   ]
  },
  {
   "cell_type": "code",
   "execution_count": null,
   "metadata": {},
   "outputs": [],
   "source": [
    "import os\n",
    "import pandas as pd\n",
    "\n",
    "csv_file_path = './train/labels.csv'\n",
    "images_path = './train/train'\n",
    "\n",
    "data = pd.read_csv(csv_file_path)\n",
    "\n",
    "def convert(xmin, ymin, xmax, ymax):\n",
    "    x_center, y_center = (xmin + xmax) / 2, (ymin + ymax) / 2\n",
    "    width = xmax - xmin\n",
    "    height = ymax - ymin\n",
    "    return [0, x_center, y_center, width, height]\n",
    "\n",
    "images = os.listdir('train/images')\n",
    "labels = os.listdir('train/labels')\n",
    "\n",
    "for i, r in data.iterrows():\n",
    "    filename = r[0]\n",
    "    lab = convert(r[1], r[2], r[3], r[4])\n",
    "    label = (' '.join(map(str, lab)) + ' ')\n",
    "\n",
    "    with open(f\"train/train_labels/{filename}.txt\", 'w') as file:\n",
    "        file.write(label)"
   ]
  },
  {
   "cell_type": "markdown",
   "metadata": {},
   "source": [
    "# Making the Train, Val and Test Folders "
   ]
  },
  {
   "cell_type": "code",
   "execution_count": null,
   "metadata": {},
   "outputs": [],
   "source": [
    "import os\n",
    "\n",
    "split_index = int(len(images) * 0.8)\n",
    "# split_index\n",
    "\n",
    "train_images = images[:split_index]\n",
    "train_labels = labels[:split_index]\n",
    "\n",
    "val_images = images[split_index:]\n",
    "val_labels = labels[split_index:]\n",
    "\n",
    "# Moving the images to val\n",
    "# for filename in val_images:\n",
    "#     os.rename(f\"./train/images/{filename}\", f\"./val/images/{filename}\")\n",
    "    \n",
    "# Moving the labels to val\n",
    "# for filename in val_labels:\n",
    "#     os.rename(f\"./train/labels/{filename}\", f\"./val/labels/{filename}\")"
   ]
  },
  {
   "cell_type": "markdown",
   "metadata": {},
   "source": [
    "## Normalising all values in the files between 0 and 1"
   ]
  },
  {
   "cell_type": "code",
   "execution_count": null,
   "metadata": {},
   "outputs": [],
   "source": [
    "import os\n",
    "import numpy as np\n",
    "\n",
    "def normalize_values(val):\n",
    "    min_value = np.min(val)\n",
    "    max_value = np.max(val)\n",
    "    return np.round((val - min_value) / (max_value - min_value), 2)\n",
    "\n",
    "trainLabelsPath = os.path.join('./train/labels')\n",
    "trainLabels = os.listdir(trainLabelsPath)\n",
    "valLabelsPath = os.path.join('./val/labels')\n",
    "valLabels = os.listdir(valLabelsPath)\n",
    "\n",
    "# Writing the normalised Training Labels\n",
    "# for filename in trainLabels:\n",
    "    \n",
    "#     filename = os.path.join(trainLabelsPath, filename)\n",
    "    \n",
    "#     with open(filename, 'r') as file:\n",
    "#         fileData = file.read().split()\n",
    "#         values = np.array(fileData, dtype=float)\n",
    "#         normalized_values = normalize_values(values).tolist()\n",
    "#     file.close()\n",
    "    \n",
    "#     normalized_values = list(map(str, normalized_values))\n",
    "    \n",
    "#     with open(filename, 'w') as f:\n",
    "#         f.write(' '.join(normalized_values) + '\\n')\n",
    "#     f.close()\n",
    "\n",
    "\n",
    "# Writing the normalised Validation Labels\n",
    "# for filename in valLabels:\n",
    "    \n",
    "#     filename = os.path.join(valLabelsPath, filename)\n",
    "    \n",
    "#     with open(filename, 'r') as file:\n",
    "#         fileData = file.read().split()\n",
    "#         values = np.array(fileData, dtype=float)\n",
    "#         normalized_values = normalize_values(values).tolist()\n",
    "#     file.close()\n",
    "    \n",
    "#     normalized_values = list(map(str, normalized_values))\n",
    "    \n",
    "#     with open(filename, 'w') as f:\n",
    "#         f.write(' '.join(normalized_values) + '\\n')\n",
    "#     f.close()"
   ]
  },
  {
   "cell_type": "markdown",
   "metadata": {},
   "source": [
    "# Training it on YOLO v8\n",
    "Now we will load the YOLO v8 model and train it on the custom dataset to obtain new weights, to get bounding boxes, identifying the foot ulcers"
   ]
  },
  {
   "cell_type": "code",
   "execution_count": 1,
   "metadata": {},
   "outputs": [
    {
     "name": "stdout",
     "output_type": "stream",
     "text": [
      "New https://pypi.org/project/ultralytics/8.2.75 available 😃 Update with 'pip install -U ultralytics'\n",
      "Ultralytics YOLOv8.1.34 🚀 Python-3.11.5 torch-2.3.1+cu121 CUDA:0 (NVIDIA GeForce RTX 3060 Laptop GPU, 6144MiB)\n",
      "\u001b[34m\u001b[1mengine\\trainer: \u001b[0mtask=detect, mode=train, model=models/yolov8n.pt, data=data.yaml, epochs=200, time=None, patience=100, batch=16, imgsz=640, save=True, save_period=-1, val_period=1, cache=False, device=None, workers=8, project=None, name=train3, exist_ok=False, pretrained=True, optimizer=auto, verbose=True, seed=0, deterministic=True, single_cls=False, rect=False, cos_lr=False, close_mosaic=10, resume=False, amp=True, fraction=1.0, profile=False, freeze=None, multi_scale=False, overlap_mask=True, mask_ratio=4, dropout=0.0, val=True, split=val, save_json=False, save_hybrid=False, conf=None, iou=0.7, max_det=300, half=False, dnn=False, plots=True, source=None, vid_stride=1, stream_buffer=False, visualize=False, augment=False, agnostic_nms=False, classes=None, retina_masks=False, embed=None, show=False, save_frames=False, save_txt=False, save_conf=False, save_crop=False, show_labels=True, show_conf=True, show_boxes=True, line_width=None, format=torchscript, keras=False, optimize=False, int8=False, dynamic=False, simplify=False, opset=None, workspace=4, nms=False, lr0=0.01, lrf=0.01, momentum=0.937, weight_decay=0.0005, warmup_epochs=3.0, warmup_momentum=0.8, warmup_bias_lr=0.1, box=7.5, cls=0.5, dfl=1.5, pose=12.0, kobj=1.0, label_smoothing=0.0, nbs=64, hsv_h=0.015, hsv_s=0.7, hsv_v=0.4, degrees=0.0, translate=0.1, scale=0.5, shear=0.0, perspective=0.0, flipud=0.0, fliplr=0.5, bgr=0.0, mosaic=1.0, mixup=0.0, copy_paste=0.0, auto_augment=randaugment, erasing=0.4, crop_fraction=1.0, cfg=None, tracker=botsort.yaml, save_dir=runs\\detect\\train3\n",
      "Overriding model.yaml nc=80 with nc=1\n",
      "\n",
      "                   from  n    params  module                                       arguments                     \n",
      "  0                  -1  1       464  ultralytics.nn.modules.conv.Conv             [3, 16, 3, 2]                 \n",
      "  1                  -1  1      4672  ultralytics.nn.modules.conv.Conv             [16, 32, 3, 2]                \n",
      "  2                  -1  1      7360  ultralytics.nn.modules.block.C2f             [32, 32, 1, True]             \n",
      "  3                  -1  1     18560  ultralytics.nn.modules.conv.Conv             [32, 64, 3, 2]                \n",
      "  4                  -1  2     49664  ultralytics.nn.modules.block.C2f             [64, 64, 2, True]             \n",
      "  5                  -1  1     73984  ultralytics.nn.modules.conv.Conv             [64, 128, 3, 2]               \n",
      "  6                  -1  2    197632  ultralytics.nn.modules.block.C2f             [128, 128, 2, True]           \n",
      "  7                  -1  1    295424  ultralytics.nn.modules.conv.Conv             [128, 256, 3, 2]              \n",
      "  8                  -1  1    460288  ultralytics.nn.modules.block.C2f             [256, 256, 1, True]           \n",
      "  9                  -1  1    164608  ultralytics.nn.modules.block.SPPF            [256, 256, 5]                 \n",
      " 10                  -1  1         0  torch.nn.modules.upsampling.Upsample         [None, 2, 'nearest']          \n",
      " 11             [-1, 6]  1         0  ultralytics.nn.modules.conv.Concat           [1]                           \n",
      " 12                  -1  1    148224  ultralytics.nn.modules.block.C2f             [384, 128, 1]                 \n",
      " 13                  -1  1         0  torch.nn.modules.upsampling.Upsample         [None, 2, 'nearest']          \n",
      " 14             [-1, 4]  1         0  ultralytics.nn.modules.conv.Concat           [1]                           \n",
      " 15                  -1  1     37248  ultralytics.nn.modules.block.C2f             [192, 64, 1]                  \n",
      " 16                  -1  1     36992  ultralytics.nn.modules.conv.Conv             [64, 64, 3, 2]                \n",
      " 17            [-1, 12]  1         0  ultralytics.nn.modules.conv.Concat           [1]                           \n",
      " 18                  -1  1    123648  ultralytics.nn.modules.block.C2f             [192, 128, 1]                 \n",
      " 19                  -1  1    147712  ultralytics.nn.modules.conv.Conv             [128, 128, 3, 2]              \n",
      " 20             [-1, 9]  1         0  ultralytics.nn.modules.conv.Concat           [1]                           \n",
      " 21                  -1  1    493056  ultralytics.nn.modules.block.C2f             [384, 256, 1]                 \n",
      " 22        [15, 18, 21]  1    751507  ultralytics.nn.modules.head.Detect           [1, [64, 128, 256]]           \n",
      "Model summary: 225 layers, 3011043 parameters, 3011027 gradients, 8.2 GFLOPs\n",
      "\n",
      "Transferred 319/355 items from pretrained weights\n",
      "\u001b[34m\u001b[1mTensorBoard: \u001b[0mStart with 'tensorboard --logdir runs\\detect\\train3', view at http://localhost:6006/\n"
     ]
    },
    {
     "name": "stderr",
     "output_type": "stream",
     "text": [
      "Failed to detect the name of this notebook, you can set it manually with the WANDB_NOTEBOOK_NAME environment variable to enable code saving.\n",
      "\u001b[34m\u001b[1mwandb\u001b[0m: Currently logged in as: \u001b[33maayudhpanchal\u001b[0m (\u001b[33maayudhpanchal-sardar-vallabhbhai-national-institute-of-t\u001b[0m). Use \u001b[1m`wandb login --relogin`\u001b[0m to force relogin\n"
     ]
    },
    {
     "data": {
      "text/html": [
       "wandb version 0.17.6 is available!  To upgrade, please run:\n",
       " $ pip install wandb --upgrade"
      ],
      "text/plain": [
       "<IPython.core.display.HTML object>"
      ]
     },
     "metadata": {},
     "output_type": "display_data"
    },
    {
     "data": {
      "text/html": [
       "Tracking run with wandb version 0.17.4"
      ],
      "text/plain": [
       "<IPython.core.display.HTML object>"
      ]
     },
     "metadata": {},
     "output_type": "display_data"
    },
    {
     "data": {
      "text/html": [
       "Run data is saved locally in <code>c:\\Users\\aayud\\OneDrive\\Desktop\\VS Code\\Machine Learning\\Internship\\Diabetic Foot Ulcer Detection\\wandb\\run-20240810_182236-h0h3hecj</code>"
      ],
      "text/plain": [
       "<IPython.core.display.HTML object>"
      ]
     },
     "metadata": {},
     "output_type": "display_data"
    },
    {
     "data": {
      "text/html": [
       "Syncing run <strong><a href='https://wandb.ai/aayudhpanchal-sardar-vallabhbhai-national-institute-of-t/YOLOv8/runs/h0h3hecj' target=\"_blank\">train3</a></strong> to <a href='https://wandb.ai/aayudhpanchal-sardar-vallabhbhai-national-institute-of-t/YOLOv8' target=\"_blank\">Weights & Biases</a> (<a href='https://wandb.me/run' target=\"_blank\">docs</a>)<br/>"
      ],
      "text/plain": [
       "<IPython.core.display.HTML object>"
      ]
     },
     "metadata": {},
     "output_type": "display_data"
    },
    {
     "data": {
      "text/html": [
       " View project at <a href='https://wandb.ai/aayudhpanchal-sardar-vallabhbhai-national-institute-of-t/YOLOv8' target=\"_blank\">https://wandb.ai/aayudhpanchal-sardar-vallabhbhai-national-institute-of-t/YOLOv8</a>"
      ],
      "text/plain": [
       "<IPython.core.display.HTML object>"
      ]
     },
     "metadata": {},
     "output_type": "display_data"
    },
    {
     "data": {
      "text/html": [
       " View run at <a href='https://wandb.ai/aayudhpanchal-sardar-vallabhbhai-national-institute-of-t/YOLOv8/runs/h0h3hecj' target=\"_blank\">https://wandb.ai/aayudhpanchal-sardar-vallabhbhai-national-institute-of-t/YOLOv8/runs/h0h3hecj</a>"
      ],
      "text/plain": [
       "<IPython.core.display.HTML object>"
      ]
     },
     "metadata": {},
     "output_type": "display_data"
    },
    {
     "name": "stdout",
     "output_type": "stream",
     "text": [
      "Freezing layer 'model.22.dfl.conv.weight'\n",
      "\u001b[34m\u001b[1mAMP: \u001b[0mrunning Automatic Mixed Precision (AMP) checks with YOLOv8n...\n",
      "\u001b[34m\u001b[1mAMP: \u001b[0mchecks passed ✅\n"
     ]
    },
    {
     "name": "stderr",
     "output_type": "stream",
     "text": [
      "\u001b[34m\u001b[1mtrain: \u001b[0mScanning C:\\Users\\aayud\\OneDrive\\Desktop\\VS Code\\Machine Learning\\Internship\\Diabetic Foot Ulcer Detection\\train\\labels.cache... 1600 images, 0 backgrounds, 0 corrupt: 100%|██████████| 1600/1600 [00:00<?, ?it/s]\n"
     ]
    }
   ],
   "source": [
    "from ultralytics import YOLO\n",
    "import torch\n",
    "\n",
    "model = YOLO('models/yolov8n.pt')\n",
    "\n",
    "res = model.train(data = 'data.yaml', epochs = 200, batch = 16, imgsz = 640)"
   ]
  }
 ],
 "metadata": {
  "kernelspec": {
   "display_name": "Python 3",
   "language": "python",
   "name": "python3"
  },
  "language_info": {
   "codemirror_mode": {
    "name": "ipython",
    "version": 3
   },
   "file_extension": ".py",
   "mimetype": "text/x-python",
   "name": "python",
   "nbconvert_exporter": "python",
   "pygments_lexer": "ipython3",
   "version": "3.11.5"
  }
 },
 "nbformat": 4,
 "nbformat_minor": 2
}
